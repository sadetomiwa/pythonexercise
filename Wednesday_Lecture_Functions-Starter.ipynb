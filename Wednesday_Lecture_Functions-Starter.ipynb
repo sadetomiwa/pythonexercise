{
 "cells": [
  {
   "cell_type": "markdown",
   "metadata": {},
   "source": [
    "# Functions"
   ]
  },
  {
   "cell_type": "markdown",
   "metadata": {},
   "source": [
    "#### Warm up"
   ]
  },
  {
   "cell_type": "code",
   "execution_count": 31,
   "metadata": {},
   "outputs": [
    {
     "name": "stdout",
     "output_type": "stream",
     "text": [
      "['The Beatles', 'The Rolling Stones', 'The Eagles', 'The Temptations']\n"
     ]
    }
   ],
   "source": [
    "bands = ['  thE beATles   ', 'tHe RoLLing sTones..', '.,tHe eagles', 'the tEMptationS  ']\n",
    "\n",
    "bands2 = [band.title().strip(\" .,\") for band in bands]\n",
    "\n",
    "print(bands2)\n",
    "\n",
    "\n",
    "\n",
    "    \n"
   ]
  },
  {
   "cell_type": "code",
   "execution_count": null,
   "metadata": {},
   "outputs": [],
   "source": []
  },
  {
   "cell_type": "code",
   "execution_count": null,
   "metadata": {},
   "outputs": [],
   "source": [
    "# Output: ['The Beatles', 'The Rolling Stones', etc]"
   ]
  },
  {
   "cell_type": "code",
   "execution_count": 34,
   "metadata": {},
   "outputs": [
    {
     "name": "stdout",
     "output_type": "stream",
     "text": [
      "['The Who', 'The Doors', 'The Band', 'The Kinks']\n"
     ]
    }
   ],
   "source": [
    "bands2 = [' The whO  ', '  .   , tHE dOORS  ', ' the bAnd   ', '...,  THE kINks    ']\n",
    "\n",
    "cleanbands = [bandd.title().strip(\" .,\") for bandd in bands2]\n",
    "\n",
    "print(cleanbands)\n"
   ]
  },
  {
   "cell_type": "markdown",
   "metadata": {},
   "source": [
    "## Functions"
   ]
  },
  {
   "cell_type": "markdown",
   "metadata": {},
   "source": [
    "##### User-Defined vs. Built-In Function"
   ]
  },
  {
   "cell_type": "code",
   "execution_count": null,
   "metadata": {},
   "outputs": [],
   "source": [
    "# Built-in functions\n",
    "\n"
   ]
  },
  {
   "cell_type": "code",
   "execution_count": 35,
   "metadata": {},
   "outputs": [
    {
     "name": "stdout",
     "output_type": "stream",
     "text": [
      "<function say_hello at 0x7fd10c4e61f0>\n"
     ]
    }
   ],
   "source": [
    "# User Defined Function\n",
    "# Syntax: def function_name():\n",
    "#             <CODE TO EXECUTE WHEN CALLED>\n",
    "\n",
    "# Creating a function\n",
    "def say_hello():\n",
    "    print('hello')\n",
    "    \n",
    "print(say_hello)\n",
    "\n",
    "\n"
   ]
  },
  {
   "cell_type": "code",
   "execution_count": null,
   "metadata": {},
   "outputs": [],
   "source": []
  },
  {
   "cell_type": "code",
   "execution_count": 38,
   "metadata": {},
   "outputs": [
    {
     "name": "stdout",
     "output_type": "stream",
     "text": [
      "before execution\n",
      "hello\n",
      "after excution\n"
     ]
    }
   ],
   "source": [
    "# Executing a function\n",
    "# Syntax: function_name()\n",
    "print('before execution')\n",
    "say_hello()\n",
    "print('after excution')"
   ]
  },
  {
   "cell_type": "markdown",
   "metadata": {},
   "source": [
    "##### Accepting Parameters"
   ]
  },
  {
   "cell_type": "code",
   "execution_count": 39,
   "metadata": {},
   "outputs": [
    {
     "name": "stdout",
     "output_type": "stream",
     "text": [
      "Hello Steven aADetomiwa\n"
     ]
    }
   ],
   "source": [
    "# Syntax: def function_name(param1, param2):\n",
    "#             <CODE TO EXECUTE with variable param1 and param2>\n",
    "def practice(first, last): # placeholders\n",
    "    print(f\"Hello {first} {last}\")\n",
    "\n",
    "    \n",
    "# Execute\n",
    "# Syntax: function_name(data1, data2)\n",
    "\n",
    "\n",
    "\n",
    "practice(\"Steven\", \"aADetomiwa\")"
   ]
  },
  {
   "cell_type": "markdown",
   "metadata": {},
   "source": [
    "##### Passing in variables as arguments"
   ]
  },
  {
   "cell_type": "code",
   "execution_count": 41,
   "metadata": {},
   "outputs": [
    {
     "name": "stdout",
     "output_type": "stream",
     "text": [
      "boston, MA - 02264\n"
     ]
    }
   ],
   "source": [
    "city1 = 'boston'\n",
    "state1 = 'MA'\n",
    "zip_code1 = '02215'\n",
    "\n",
    "city2 = 'New York'\n",
    "state2 = 'NY'\n",
    "zip_code2 = '02264'\n",
    "\n",
    "def fixaddy(city, state, zip_code):\n",
    "    print(f\"{city}, {state} - {zip_code}\")\n",
    "    \n",
    "fixaddy(city1, state1, zip_code2)\n"
   ]
  },
  {
   "cell_type": "code",
   "execution_count": 42,
   "metadata": {},
   "outputs": [],
   "source": [
    "def create_label(first_name, last_name, address, city, state, zip_code):\n",
    "    print(f\"\"\"\n",
    "{first_name.title()} {last_name.title()}\n",
    "{address.title()}\n",
    "{city.title()}, {state.title()} {zip_code}\n",
    "    \"\"\")\n",
    "    "
   ]
  },
  {
   "cell_type": "code",
   "execution_count": 48,
   "metadata": {},
   "outputs": [
    {
     "name": "stdout",
     "output_type": "stream",
     "text": [
      "What is your first name ?steve\n",
      "What is your last name?ade\n",
      " What is 'Steves' address?7607 mars ln\n",
      "In which city?arlington\n",
      "What is the state postal code?tx\n",
      "What is the zip code?76001\n",
      "\n",
      "Steve Ade\n",
      "7607 Mars Ln\n",
      "Arlington, Tx 76001\n",
      "    \n"
     ]
    }
   ],
   "source": [
    "first = input('What is your first name ?')\n",
    "last = input('What is your last name?')\n",
    "address = input(f\" What is '{first.title()}s' address?\")\n",
    "city = input('In which city?')\n",
    "state = input('What is the state postal code?')\n",
    "zip_code = input('What is the zip code?')\n",
    "\n",
    "\n",
    "create_label(first, last, address, city, state, zip_code)"
   ]
  },
  {
   "cell_type": "markdown",
   "metadata": {},
   "source": [
    "##### Keyword Arguments"
   ]
  },
  {
   "cell_type": "code",
   "execution_count": null,
   "metadata": {},
   "outputs": [],
   "source": [
    "def make_payment(total_amount, amount_paid, account_number):\n",
    "    new_total = total_amount_due - amount paid \n",
    "    print(f\"You have made a payment of ${amount_paid} to  \")\n",
    "    print(f\"     \")\n",
    "    print(f\"             \")\n"
   ]
  },
  {
   "cell_type": "code",
   "execution_count": null,
   "metadata": {},
   "outputs": [],
   "source": []
  },
  {
   "cell_type": "markdown",
   "metadata": {},
   "source": [
    "##### Default Parameters"
   ]
  },
  {
   "cell_type": "code",
   "execution_count": 50,
   "metadata": {
    "scrolled": true
   },
   "outputs": [
    {
     "name": "stdout",
     "output_type": "stream",
     "text": [
      "Thank you Steven. Here is your receipt:\n",
      "1 Hamburger\n",
      "\twith cheese\n",
      "\twith lettuce\n",
      "\twith tomato\n",
      "Total: $4.50\n"
     ]
    }
   ],
   "source": [
    "def make_a_burger(customer_name, cheese=True, lettuce=True, tomato=True, onions=None):\n",
    "    total_price = 4.50\n",
    "    message = f'Thank you {customer_name}. Here is your receipt:\\n'\n",
    "    message += '1 Hamburger\\n'\n",
    "    if cheese:\n",
    "        message += '\\twith cheese\\n'\n",
    "    if lettuce:\n",
    "        message += '\\twith lettuce\\n'\n",
    "    if tomato:\n",
    "        message += '\\twith tomato\\n'\n",
    "    if onions:\n",
    "        message += f'\\twith {onions} onions\\n'\n",
    "        total_price += .50\n",
    "    message += f'Total: ${total_price:.2f}'\n",
    "    print(reciept)\n",
    "\n",
    "    \n",
    "make_a_burger('Steven')"
   ]
  },
  {
   "cell_type": "code",
   "execution_count": 52,
   "metadata": {},
   "outputs": [
    {
     "name": "stdout",
     "output_type": "stream",
     "text": [
      "Thank you Jill. Here is your receipt:\n",
      "1 Hamburger\n",
      "\twith lettuce\n",
      "\twith tomato\n",
      "\twith True onions\n",
      "Total: $5.00\n"
     ]
    }
   ],
   "source": [
    "make_a_burger('Jill', False, True, True, True)"
   ]
  },
  {
   "cell_type": "code",
   "execution_count": null,
   "metadata": {},
   "outputs": [],
   "source": []
  },
  {
   "cell_type": "code",
   "execution_count": null,
   "metadata": {},
   "outputs": [],
   "source": []
  },
  {
   "cell_type": "code",
   "execution_count": null,
   "metadata": {},
   "outputs": [],
   "source": []
  },
  {
   "cell_type": "markdown",
   "metadata": {},
   "source": [
    "##### \\*args and **kwargs"
   ]
  },
  {
   "cell_type": "code",
   "execution_count": null,
   "metadata": {},
   "outputs": [],
   "source": [
    "def my_function(argq)"
   ]
  },
  {
   "cell_type": "code",
   "execution_count": null,
   "metadata": {
    "scrolled": true
   },
   "outputs": [],
   "source": []
  },
  {
   "cell_type": "code",
   "execution_count": null,
   "metadata": {},
   "outputs": [],
   "source": []
  },
  {
   "cell_type": "markdown",
   "metadata": {},
   "source": [
    "#### In Class Exercise 1"
   ]
  },
  {
   "cell_type": "markdown",
   "metadata": {},
   "source": [
    "Create a function that takes in a color, make, and model and formats it into a string.<br>\n",
    "Then loop over the cars list and apply the function to each element.<br>\n",
    "Expected Output:<br>\n",
    "<code>Blue Toyota Tundra\n",
    "Green Chevy Silverado\n",
    "Pink Ford F-150</code>\n"
   ]
  },
  {
   "cell_type": "code",
   "execution_count": 74,
   "metadata": {},
   "outputs": [
    {
     "ename": "SyntaxError",
     "evalue": "invalid syntax (1867850898.py, line 2)",
     "output_type": "error",
     "traceback": [
      "\u001b[0;36m  File \u001b[0;32m\"/var/folders/sv/6czydd7x1lz2c7mpxwtv4s_r0000gn/T/ipykernel_40605/1867850898.py\"\u001b[0;36m, line \u001b[0;32m2\u001b[0m\n\u001b[0;31m    return {color.title.()} {make.title()} {model.title()}:\u001b[0m\n\u001b[0m                        ^\u001b[0m\n\u001b[0;31mSyntaxError\u001b[0m\u001b[0;31m:\u001b[0m invalid syntax\n"
     ]
    }
   ],
   "source": [
    "\n",
    "def format_car(color, make, model):\n",
    "    return f\"{color.title()} {make.title()} {model.title()}\"\n",
    "\n",
    "cars = [\n",
    "    ('blue', 'toyota', 'tundra'), \n",
    "    ('green', 'chevy', 'silverado'), \n",
    "    ('pink', 'ford', 'f-150'), \n",
    "    ('red', 'ford', 'mustang'),\n",
    "    ('yellow', 'toyota', 'prius')\n",
    "]\n",
    "\n",
    "\n",
    "format_car('green', 'ford', 'tundra')\n",
    "\n",
    "\n"
   ]
  },
  {
   "cell_type": "code",
   "execution_count": null,
   "metadata": {},
   "outputs": [],
   "source": []
  },
  {
   "cell_type": "code",
   "execution_count": null,
   "metadata": {},
   "outputs": [],
   "source": []
  },
  {
   "cell_type": "code",
   "execution_count": null,
   "metadata": {},
   "outputs": [],
   "source": []
  },
  {
   "cell_type": "code",
   "execution_count": null,
   "metadata": {},
   "outputs": [],
   "source": []
  },
  {
   "cell_type": "code",
   "execution_count": null,
   "metadata": {},
   "outputs": [],
   "source": []
  },
  {
   "cell_type": "markdown",
   "metadata": {},
   "source": [
    "## Scope <br>\n",
    "<p>Scope refers to the ability to access variables, different types of scope include:<br>a) Global<br>b) Function (local)<br>c) Class (local)</p>"
   ]
  },
  {
   "cell_type": "code",
   "execution_count": 76,
   "metadata": {},
   "outputs": [
    {
     "name": "stdout",
     "output_type": "stream",
     "text": [
      "[('blue', 'toyota', 'tundra'), ('green', 'chevy', 'silverado'), ('pink', 'ford', 'f-150'), ('red', 'ford', 'mustang'), ('yellow', 'toyota', 'prius')]\n",
      "New York\n"
     ]
    }
   ],
   "source": [
    "print(cars)\n",
    "print(city2)\n"
   ]
  },
  {
   "cell_type": "code",
   "execution_count": 79,
   "metadata": {},
   "outputs": [
    {
     "name": "stdout",
     "output_type": "stream",
     "text": [
      "student: Little Jimmy\n",
      "Little Jimmy has been assigned to Ms. Buttercup's class\n"
     ]
    }
   ],
   "source": [
    "student = \"Little Jimmy\"\n",
    "teacher = \"Ms. Buttercup\"\n",
    "\n",
    "\n",
    "def assign_student(student_name):\n",
    "    print('Student:', student)\n",
    "    print(f\"{student_name} has been assigned to {teacher}'s class\" )\n",
    "    \n",
    "    \n",
    "assign_student(student)"
   ]
  },
  {
   "cell_type": "code",
   "execution_count": null,
   "metadata": {},
   "outputs": [],
   "source": []
  },
  {
   "cell_type": "markdown",
   "metadata": {},
   "source": [
    "##### Returning Values"
   ]
  },
  {
   "cell_type": "code",
   "execution_count": 83,
   "metadata": {},
   "outputs": [
    {
     "name": "stdout",
     "output_type": "stream",
     "text": [
      "10\n",
      "20 8000\n"
     ]
    }
   ],
   "source": [
    "# Mathematical Function - y = f(x)\n",
    "# Where f is the function, x is the input(s), and y is the dependent variable (or the return variable)\n",
    "\n",
    "def f(x):\n",
    "    return 2*x\n",
    "\n",
    "\n",
    "y = f(5)\n",
    "print(y)\n",
    "\n",
    "\n",
    "z = f(10)\n",
    "print(z, z**3)\n"
   ]
  },
  {
   "cell_type": "code",
   "execution_count": null,
   "metadata": {},
   "outputs": [],
   "source": []
  },
  {
   "cell_type": "code",
   "execution_count": null,
   "metadata": {},
   "outputs": [],
   "source": []
  },
  {
   "cell_type": "code",
   "execution_count": null,
   "metadata": {
    "scrolled": true
   },
   "outputs": [],
   "source": [
    "# Return will also immediately terminate the function\n"
   ]
  },
  {
   "cell_type": "code",
   "execution_count": null,
   "metadata": {},
   "outputs": [],
   "source": []
  },
  {
   "cell_type": "markdown",
   "metadata": {},
   "source": [
    "#### Multiple returns in a function"
   ]
  },
  {
   "cell_type": "code",
   "execution_count": null,
   "metadata": {},
   "outputs": [],
   "source": []
  },
  {
   "cell_type": "markdown",
   "metadata": {},
   "source": [
    "##### Difference between `return` and `print`"
   ]
  },
  {
   "cell_type": "code",
   "execution_count": null,
   "metadata": {},
   "outputs": [],
   "source": [
    "def create_headline_print(messaage):\n",
    "    print(message.strip().title()+ '!')\n",
    "    \n",
    "def create_headline_return(message):\n",
    "    return message.strip().title()+ '!'\n",
    "\n"
   ]
  },
  {
   "cell_type": "code",
   "execution_count": null,
   "metadata": {},
   "outputs": [],
   "source": []
  },
  {
   "cell_type": "code",
   "execution_count": null,
   "metadata": {},
   "outputs": [],
   "source": []
  },
  {
   "cell_type": "markdown",
   "metadata": {},
   "source": [
    "#### Functions with Lists"
   ]
  },
  {
   "cell_type": "code",
   "execution_count": null,
   "metadata": {},
   "outputs": [],
   "source": [
    "bands = ['  thE beATles   ', 'tHe RoLLing sTones..', '.,tHe eagles', 'the tEMptationS  ']\n",
    "bands2 = [' The whO  ', '  .   , tHE dOORS  ', ' the bAnd   ', '...,  THE kINks    ']\n",
    "\n",
    "\n",
    "\n",
    "\n",
    "    "
   ]
  },
  {
   "cell_type": "code",
   "execution_count": null,
   "metadata": {},
   "outputs": [],
   "source": [
    "def clean_band_names(mess_bands):\n",
    "    cleanbands = [bandd.title().strip(\" .,\") for bandd in bands2]\n",
    "    return clean_bands\n",
    "\n"
   ]
  },
  {
   "cell_type": "code",
   "execution_count": null,
   "metadata": {},
   "outputs": [],
   "source": []
  },
  {
   "cell_type": "markdown",
   "metadata": {},
   "source": [
    "#### In-Class Exercise 2"
   ]
  },
  {
   "cell_type": "markdown",
   "metadata": {},
   "source": [
    "Create a function that takes in the list of tuples ('city', 'country') and a country name and returns a list of the cities in that country"
   ]
  },
  {
   "cell_type": "code",
   "execution_count": 105,
   "metadata": {},
   "outputs": [
    {
     "data": {
      "text/plain": [
       "['London']"
      ]
     },
     "execution_count": 105,
     "metadata": {},
     "output_type": "execute_result"
    }
   ],
   "source": [
    "cities = [\n",
    "    (\"London\", \"England\"), \n",
    "    (\"Manchester\", \"England\"), \n",
    "    (\"Barcelona\", \"Spain\"), \n",
    "    (\"Madrid\", \"Spain\"), \n",
    "    (\"Rome\", \"Italy\"), \n",
    "    (\"Florence\", \"Italy\")\n",
    "]\n",
    "\n",
    "\n",
    "def get_cities_in_country(city_list, country_name):\n",
    "    cities_in_country = []\n",
    "    for city in city_list:\n",
    "        if country_name in city:\n",
    "            cities_in_country.append(city[0])\n",
    "            return(cities_in_country)\n",
    "            \n",
    "            \n",
    "     \n",
    "get_cities_in_country(cities, 'England')"
   ]
  },
  {
   "cell_type": "code",
   "execution_count": 102,
   "metadata": {},
   "outputs": [
    {
     "data": {
      "text/plain": [
       "[('London', 'England'),\n",
       " ('Manchester', 'England'),\n",
       " ('Barcelona', 'Spain'),\n",
       " ('Madrid', 'Spain'),\n",
       " ('Rome', 'Italy'),\n",
       " ('Florence', 'Italy')]"
      ]
     },
     "execution_count": 102,
     "metadata": {},
     "output_type": "execute_result"
    }
   ],
   "source": [
    " def get_cities_in_country(city_list, country_name):\n",
    "    cities_in_country = []\n",
    "    for x in city_list:\n",
    "        city = x[0]\n",
    "        country = [0]\n",
    "        if country_name == country:\n",
    "            cities_in_country.append(city)\n",
    "    return cities\n",
    "\n",
    "get_cities_in_country(cities, 'England')"
   ]
  },
  {
   "cell_type": "code",
   "execution_count": null,
   "metadata": {},
   "outputs": [],
   "source": []
  },
  {
   "cell_type": "code",
   "execution_count": null,
   "metadata": {},
   "outputs": [],
   "source": []
  },
  {
   "cell_type": "markdown",
   "metadata": {},
   "source": [
    "#### Docstrings"
   ]
  },
  {
   "cell_type": "code",
   "execution_count": 106,
   "metadata": {},
   "outputs": [
    {
     "name": "stdout",
     "output_type": "stream",
     "text": [
      "Help on built-in function len in module builtins:\n",
      "\n",
      "len(obj, /)\n",
      "    Return the number of items in a container.\n",
      "\n"
     ]
    }
   ],
   "source": [
    "help(len)"
   ]
  },
  {
   "cell_type": "code",
   "execution_count": 107,
   "metadata": {},
   "outputs": [
    {
     "name": "stdout",
     "output_type": "stream",
     "text": [
      "Help on function add_nums in module __main__:\n",
      "\n",
      "add_nums(num1, num2)\n",
      "\n"
     ]
    }
   ],
   "source": [
    "def add_nums(num1, num2):\n",
    "    \"\"\"\n",
    "    add nums takes in two number types (in or float) and will return the two added together\n",
    "    num1 --> int or float\n",
    "    \"\"\"\n",
    "    return num1 + num2\n",
    "\n",
    "help(add_nums)"
   ]
  },
  {
   "cell_type": "code",
   "execution_count": null,
   "metadata": {},
   "outputs": [],
   "source": []
  },
  {
   "cell_type": "markdown",
   "metadata": {},
   "source": [
    "#### Whiteboard Approach"
   ]
  },
  {
   "cell_type": "markdown",
   "metadata": {},
   "source": [
    "1. What are the input(s)?\n",
    "2. What are the output(s)?\n",
    "3. Consider constraints and edge cases\n",
    "4. Write out steps logically (No python)\n",
    "5. Pseudocode\n",
    "6. Code"
   ]
  },
  {
   "cell_type": "markdown",
   "metadata": {},
   "source": [
    "#### Whiteboard Example"
   ]
  },
  {
   "cell_type": "markdown",
   "metadata": {},
   "source": [
    "Find Even numbers<br>\n",
    "Create a function that, given a list as a parameter, finds the even numbers <br>\n",
    "inside the list. The function should then return a list.<br>\n",
    "Bonus: Use a list comprehension to find your solution<br>\n",
    "Example:<br>\n",
    "Input: [2, 7, 10, 11, 12]<br>\n",
    "Output: [2, 10, 12]<br>"
   ]
  },
  {
   "cell_type": "code",
   "execution_count": null,
   "metadata": {},
   "outputs": [],
   "source": [
    "#1. Input(s): List[int]\n",
    "#2. Output: List[int] -> all int should be even\n",
    "#3. If input List is empty or has no evens, return an empty list. Can assume all ints in input list are between 0 and 100\n",
    "#4. "
   ]
  },
  {
   "cell_type": "code",
   "execution_count": null,
   "metadata": {},
   "outputs": [],
   "source": []
  }
 ],
 "metadata": {
  "kernelspec": {
   "display_name": "Python 3 (ipykernel)",
   "language": "python",
   "name": "python3"
  },
  "language_info": {
   "codemirror_mode": {
    "name": "ipython",
    "version": 3
   },
   "file_extension": ".py",
   "mimetype": "text/x-python",
   "name": "python",
   "nbconvert_exporter": "python",
   "pygments_lexer": "ipython3",
   "version": "3.9.13"
  }
 },
 "nbformat": 4,
 "nbformat_minor": 2
}
